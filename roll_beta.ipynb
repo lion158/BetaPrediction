{
 "cells": [
  {
   "cell_type": "code",
   "execution_count": 2,
   "outputs": [],
   "source": [
    "import pandas as pd\n",
    "import numpy as np\n",
    "from sklearn.linear_model import LinearRegression"
   ],
   "metadata": {
    "collapsed": false
   }
  },
  {
   "cell_type": "code",
   "execution_count": 3,
   "outputs": [],
   "source": [
    "# reading the wig_20 (market) data\n",
    "wig_20 = pd.read_csv(\"wig20_m.csv\")"
   ],
   "metadata": {
    "collapsed": false
   }
  },
  {
   "cell_type": "code",
   "execution_count": 4,
   "outputs": [
    {
     "data": {
      "text/plain": "         Data  Otwarcie  Najwyzszy  Najnizszy  Zamkniecie      Wolumen\n0  2003-05-31   1111.37    1192.46    1109.49     1192.46  113660282.0\n1  2003-06-30   1194.94    1257.84    1187.26     1252.03   72644966.0\n2  2003-07-31   1242.96    1397.07    1227.90     1387.10  166610522.0\n3  2003-08-31   1384.29    1641.65    1353.90     1637.53  196557768.0\n4  2003-09-30   1668.99    1742.68    1477.25     1477.25  152003802.0",
      "text/html": "<div>\n<style scoped>\n    .dataframe tbody tr th:only-of-type {\n        vertical-align: middle;\n    }\n\n    .dataframe tbody tr th {\n        vertical-align: top;\n    }\n\n    .dataframe thead th {\n        text-align: right;\n    }\n</style>\n<table border=\"1\" class=\"dataframe\">\n  <thead>\n    <tr style=\"text-align: right;\">\n      <th></th>\n      <th>Data</th>\n      <th>Otwarcie</th>\n      <th>Najwyzszy</th>\n      <th>Najnizszy</th>\n      <th>Zamkniecie</th>\n      <th>Wolumen</th>\n    </tr>\n  </thead>\n  <tbody>\n    <tr>\n      <th>0</th>\n      <td>2003-05-31</td>\n      <td>1111.37</td>\n      <td>1192.46</td>\n      <td>1109.49</td>\n      <td>1192.46</td>\n      <td>113660282.0</td>\n    </tr>\n    <tr>\n      <th>1</th>\n      <td>2003-06-30</td>\n      <td>1194.94</td>\n      <td>1257.84</td>\n      <td>1187.26</td>\n      <td>1252.03</td>\n      <td>72644966.0</td>\n    </tr>\n    <tr>\n      <th>2</th>\n      <td>2003-07-31</td>\n      <td>1242.96</td>\n      <td>1397.07</td>\n      <td>1227.90</td>\n      <td>1387.10</td>\n      <td>166610522.0</td>\n    </tr>\n    <tr>\n      <th>3</th>\n      <td>2003-08-31</td>\n      <td>1384.29</td>\n      <td>1641.65</td>\n      <td>1353.90</td>\n      <td>1637.53</td>\n      <td>196557768.0</td>\n    </tr>\n    <tr>\n      <th>4</th>\n      <td>2003-09-30</td>\n      <td>1668.99</td>\n      <td>1742.68</td>\n      <td>1477.25</td>\n      <td>1477.25</td>\n      <td>152003802.0</td>\n    </tr>\n  </tbody>\n</table>\n</div>"
     },
     "execution_count": 4,
     "metadata": {},
     "output_type": "execute_result"
    }
   ],
   "source": [
    "#showing first 5 column\n",
    "wig_20.head()"
   ],
   "metadata": {
    "collapsed": false
   }
  },
  {
   "cell_type": "code",
   "execution_count": 5,
   "outputs": [],
   "source": [
    "#creating new column 'return' it is percentage change between current and last month close price\n",
    "wig_20['return'] = wig_20.Zamkniecie.pct_change()"
   ],
   "metadata": {
    "collapsed": false
   }
  },
  {
   "cell_type": "code",
   "execution_count": 6,
   "outputs": [
    {
     "data": {
      "text/plain": "         Data  Otwarcie  Najwyzszy  Najnizszy  Zamkniecie      Wolumen  \\\n0  2003-05-31   1111.37    1192.46    1109.49     1192.46  113660282.0   \n1  2003-06-30   1194.94    1257.84    1187.26     1252.03   72644966.0   \n2  2003-07-31   1242.96    1397.07    1227.90     1387.10  166610522.0   \n3  2003-08-31   1384.29    1641.65    1353.90     1637.53  196557768.0   \n4  2003-09-30   1668.99    1742.68    1477.25     1477.25  152003802.0   \n\n     return  \n0       NaN  \n1  0.049956  \n2  0.107881  \n3  0.180542  \n4 -0.097879  ",
      "text/html": "<div>\n<style scoped>\n    .dataframe tbody tr th:only-of-type {\n        vertical-align: middle;\n    }\n\n    .dataframe tbody tr th {\n        vertical-align: top;\n    }\n\n    .dataframe thead th {\n        text-align: right;\n    }\n</style>\n<table border=\"1\" class=\"dataframe\">\n  <thead>\n    <tr style=\"text-align: right;\">\n      <th></th>\n      <th>Data</th>\n      <th>Otwarcie</th>\n      <th>Najwyzszy</th>\n      <th>Najnizszy</th>\n      <th>Zamkniecie</th>\n      <th>Wolumen</th>\n      <th>return</th>\n    </tr>\n  </thead>\n  <tbody>\n    <tr>\n      <th>0</th>\n      <td>2003-05-31</td>\n      <td>1111.37</td>\n      <td>1192.46</td>\n      <td>1109.49</td>\n      <td>1192.46</td>\n      <td>113660282.0</td>\n      <td>NaN</td>\n    </tr>\n    <tr>\n      <th>1</th>\n      <td>2003-06-30</td>\n      <td>1194.94</td>\n      <td>1257.84</td>\n      <td>1187.26</td>\n      <td>1252.03</td>\n      <td>72644966.0</td>\n      <td>0.049956</td>\n    </tr>\n    <tr>\n      <th>2</th>\n      <td>2003-07-31</td>\n      <td>1242.96</td>\n      <td>1397.07</td>\n      <td>1227.90</td>\n      <td>1387.10</td>\n      <td>166610522.0</td>\n      <td>0.107881</td>\n    </tr>\n    <tr>\n      <th>3</th>\n      <td>2003-08-31</td>\n      <td>1384.29</td>\n      <td>1641.65</td>\n      <td>1353.90</td>\n      <td>1637.53</td>\n      <td>196557768.0</td>\n      <td>0.180542</td>\n    </tr>\n    <tr>\n      <th>4</th>\n      <td>2003-09-30</td>\n      <td>1668.99</td>\n      <td>1742.68</td>\n      <td>1477.25</td>\n      <td>1477.25</td>\n      <td>152003802.0</td>\n      <td>-0.097879</td>\n    </tr>\n  </tbody>\n</table>\n</div>"
     },
     "execution_count": 6,
     "metadata": {},
     "output_type": "execute_result"
    }
   ],
   "source": [
    "wig_20.head()"
   ],
   "metadata": {
    "collapsed": false
   }
  },
  {
   "cell_type": "code",
   "execution_count": 7,
   "outputs": [],
   "source": [
    "#reading the Bank Polska Kasa Opieki (PEKAO) data\n",
    "peo = pd.read_csv('peo_m.csv')"
   ],
   "metadata": {
    "collapsed": false
   }
  },
  {
   "cell_type": "code",
   "execution_count": 8,
   "outputs": [
    {
     "data": {
      "text/plain": "         Data  Otwarcie  Najwyzszy  Najnizszy  Zamkniecie       Wolumen\n0  2003-05-31   41.1699    44.3923    39.8689     44.3923  6.237197e+06\n1  2003-06-30   44.3461    48.6325    44.3007     48.6325  6.552683e+06\n2  2003-07-31   47.7639    54.6506    47.1870     51.7586  9.592962e+06\n3  2003-08-31   51.2818    61.3890    48.6325     60.9122  1.020771e+07\n4  2003-09-30   61.3890    64.5198    51.7586     54.1681  1.138112e+07",
      "text/html": "<div>\n<style scoped>\n    .dataframe tbody tr th:only-of-type {\n        vertical-align: middle;\n    }\n\n    .dataframe tbody tr th {\n        vertical-align: top;\n    }\n\n    .dataframe thead th {\n        text-align: right;\n    }\n</style>\n<table border=\"1\" class=\"dataframe\">\n  <thead>\n    <tr style=\"text-align: right;\">\n      <th></th>\n      <th>Data</th>\n      <th>Otwarcie</th>\n      <th>Najwyzszy</th>\n      <th>Najnizszy</th>\n      <th>Zamkniecie</th>\n      <th>Wolumen</th>\n    </tr>\n  </thead>\n  <tbody>\n    <tr>\n      <th>0</th>\n      <td>2003-05-31</td>\n      <td>41.1699</td>\n      <td>44.3923</td>\n      <td>39.8689</td>\n      <td>44.3923</td>\n      <td>6.237197e+06</td>\n    </tr>\n    <tr>\n      <th>1</th>\n      <td>2003-06-30</td>\n      <td>44.3461</td>\n      <td>48.6325</td>\n      <td>44.3007</td>\n      <td>48.6325</td>\n      <td>6.552683e+06</td>\n    </tr>\n    <tr>\n      <th>2</th>\n      <td>2003-07-31</td>\n      <td>47.7639</td>\n      <td>54.6506</td>\n      <td>47.1870</td>\n      <td>51.7586</td>\n      <td>9.592962e+06</td>\n    </tr>\n    <tr>\n      <th>3</th>\n      <td>2003-08-31</td>\n      <td>51.2818</td>\n      <td>61.3890</td>\n      <td>48.6325</td>\n      <td>60.9122</td>\n      <td>1.020771e+07</td>\n    </tr>\n    <tr>\n      <th>4</th>\n      <td>2003-09-30</td>\n      <td>61.3890</td>\n      <td>64.5198</td>\n      <td>51.7586</td>\n      <td>54.1681</td>\n      <td>1.138112e+07</td>\n    </tr>\n  </tbody>\n</table>\n</div>"
     },
     "execution_count": 8,
     "metadata": {},
     "output_type": "execute_result"
    }
   ],
   "source": [
    "peo.head()"
   ],
   "metadata": {
    "collapsed": false
   }
  },
  {
   "cell_type": "code",
   "execution_count": 9,
   "outputs": [],
   "source": [
    "#creating new column 'return' it is percentage change between current and last month close price\n",
    "peo['return'] = peo.Zamkniecie.pct_change()"
   ],
   "metadata": {
    "collapsed": false
   }
  },
  {
   "cell_type": "code",
   "execution_count": 10,
   "outputs": [
    {
     "data": {
      "text/plain": "         Data  Otwarcie  Najwyzszy  Najnizszy  Zamkniecie       Wolumen  \\\n0  2003-05-31   41.1699    44.3923    39.8689     44.3923  6.237197e+06   \n1  2003-06-30   44.3461    48.6325    44.3007     48.6325  6.552683e+06   \n2  2003-07-31   47.7639    54.6506    47.1870     51.7586  9.592962e+06   \n3  2003-08-31   51.2818    61.3890    48.6325     60.9122  1.020771e+07   \n4  2003-09-30   61.3890    64.5198    51.7586     54.1681  1.138112e+07   \n\n     return  \n0       NaN  \n1  0.095517  \n2  0.064280  \n3  0.176852  \n4 -0.110718  ",
      "text/html": "<div>\n<style scoped>\n    .dataframe tbody tr th:only-of-type {\n        vertical-align: middle;\n    }\n\n    .dataframe tbody tr th {\n        vertical-align: top;\n    }\n\n    .dataframe thead th {\n        text-align: right;\n    }\n</style>\n<table border=\"1\" class=\"dataframe\">\n  <thead>\n    <tr style=\"text-align: right;\">\n      <th></th>\n      <th>Data</th>\n      <th>Otwarcie</th>\n      <th>Najwyzszy</th>\n      <th>Najnizszy</th>\n      <th>Zamkniecie</th>\n      <th>Wolumen</th>\n      <th>return</th>\n    </tr>\n  </thead>\n  <tbody>\n    <tr>\n      <th>0</th>\n      <td>2003-05-31</td>\n      <td>41.1699</td>\n      <td>44.3923</td>\n      <td>39.8689</td>\n      <td>44.3923</td>\n      <td>6.237197e+06</td>\n      <td>NaN</td>\n    </tr>\n    <tr>\n      <th>1</th>\n      <td>2003-06-30</td>\n      <td>44.3461</td>\n      <td>48.6325</td>\n      <td>44.3007</td>\n      <td>48.6325</td>\n      <td>6.552683e+06</td>\n      <td>0.095517</td>\n    </tr>\n    <tr>\n      <th>2</th>\n      <td>2003-07-31</td>\n      <td>47.7639</td>\n      <td>54.6506</td>\n      <td>47.1870</td>\n      <td>51.7586</td>\n      <td>9.592962e+06</td>\n      <td>0.064280</td>\n    </tr>\n    <tr>\n      <th>3</th>\n      <td>2003-08-31</td>\n      <td>51.2818</td>\n      <td>61.3890</td>\n      <td>48.6325</td>\n      <td>60.9122</td>\n      <td>1.020771e+07</td>\n      <td>0.176852</td>\n    </tr>\n    <tr>\n      <th>4</th>\n      <td>2003-09-30</td>\n      <td>61.3890</td>\n      <td>64.5198</td>\n      <td>51.7586</td>\n      <td>54.1681</td>\n      <td>1.138112e+07</td>\n      <td>-0.110718</td>\n    </tr>\n  </tbody>\n</table>\n</div>"
     },
     "execution_count": 10,
     "metadata": {},
     "output_type": "execute_result"
    }
   ],
   "source": [
    "peo.head()"
   ],
   "metadata": {
    "collapsed": false
   }
  },
  {
   "cell_type": "code",
   "execution_count": 11,
   "outputs": [],
   "source": [
    "# now we can calculate Beta, we will use liner regression method to calculate\n",
    "x = np.array(wig_20['return'][1:]).reshape((-1,1)) # first value is NaN so [1:]\n",
    "y = np.array(peo['return'][1:]) # first value is NaN so [1:]\n",
    "\n",
    "model = LinearRegression().fit(x, y)"
   ],
   "metadata": {
    "collapsed": false
   }
  },
  {
   "cell_type": "code",
   "execution_count": 12,
   "outputs": [
    {
     "name": "stdout",
     "output_type": "stream",
     "text": [
      "Beta: [1.15371447]\n"
     ]
    }
   ],
   "source": [
    "# Beta value is simply the coef of LinearRegression model.\n",
    "# printing beta value\n",
    "print(f\"Beta: {model.coef_}\")"
   ],
   "metadata": {
    "collapsed": false
   }
  },
  {
   "cell_type": "code",
   "execution_count": 21,
   "outputs": [
    {
     "data": {
      "text/plain": "            X         Y\n0    0.049956  0.095517\n1    0.107881  0.064280\n2    0.180542  0.176852\n3   -0.097879 -0.110718\n4    0.070916  0.022223\n..        ...       ...\n235  0.061518  0.065896\n236 -0.028550 -0.027332\n237 -0.048367 -0.047056\n238  0.093560  0.123099\n239  0.012111  0.047093\n\n[240 rows x 2 columns]",
      "text/html": "<div>\n<style scoped>\n    .dataframe tbody tr th:only-of-type {\n        vertical-align: middle;\n    }\n\n    .dataframe tbody tr th {\n        vertical-align: top;\n    }\n\n    .dataframe thead th {\n        text-align: right;\n    }\n</style>\n<table border=\"1\" class=\"dataframe\">\n  <thead>\n    <tr style=\"text-align: right;\">\n      <th></th>\n      <th>X</th>\n      <th>Y</th>\n    </tr>\n  </thead>\n  <tbody>\n    <tr>\n      <th>0</th>\n      <td>0.049956</td>\n      <td>0.095517</td>\n    </tr>\n    <tr>\n      <th>1</th>\n      <td>0.107881</td>\n      <td>0.064280</td>\n    </tr>\n    <tr>\n      <th>2</th>\n      <td>0.180542</td>\n      <td>0.176852</td>\n    </tr>\n    <tr>\n      <th>3</th>\n      <td>-0.097879</td>\n      <td>-0.110718</td>\n    </tr>\n    <tr>\n      <th>4</th>\n      <td>0.070916</td>\n      <td>0.022223</td>\n    </tr>\n    <tr>\n      <th>...</th>\n      <td>...</td>\n      <td>...</td>\n    </tr>\n    <tr>\n      <th>235</th>\n      <td>0.061518</td>\n      <td>0.065896</td>\n    </tr>\n    <tr>\n      <th>236</th>\n      <td>-0.028550</td>\n      <td>-0.027332</td>\n    </tr>\n    <tr>\n      <th>237</th>\n      <td>-0.048367</td>\n      <td>-0.047056</td>\n    </tr>\n    <tr>\n      <th>238</th>\n      <td>0.093560</td>\n      <td>0.123099</td>\n    </tr>\n    <tr>\n      <th>239</th>\n      <td>0.012111</td>\n      <td>0.047093</td>\n    </tr>\n  </tbody>\n</table>\n<p>240 rows × 2 columns</p>\n</div>"
     },
     "execution_count": 21,
     "metadata": {},
     "output_type": "execute_result"
    }
   ],
   "source": [
    "# another method to calculate Beta is to use formula B = cov/var(market)\n",
    "y = np.array(peo['return'][1:]) #stock\n",
    "x = np.array(wig_20['return'][1:]) #market\n",
    "\n",
    "#creating a dataframe\n",
    "data = {'X': x, 'Y': y}\n",
    "df = pd.DataFrame(data)\n",
    "df"
   ],
   "metadata": {
    "collapsed": false
   }
  },
  {
   "cell_type": "code",
   "execution_count": 22,
   "outputs": [
    {
     "data": {
      "text/plain": "          X         Y\nX  0.003999  0.004614\nY  0.004614  0.008161",
      "text/html": "<div>\n<style scoped>\n    .dataframe tbody tr th:only-of-type {\n        vertical-align: middle;\n    }\n\n    .dataframe tbody tr th {\n        vertical-align: top;\n    }\n\n    .dataframe thead th {\n        text-align: right;\n    }\n</style>\n<table border=\"1\" class=\"dataframe\">\n  <thead>\n    <tr style=\"text-align: right;\">\n      <th></th>\n      <th>X</th>\n      <th>Y</th>\n    </tr>\n  </thead>\n  <tbody>\n    <tr>\n      <th>X</th>\n      <td>0.003999</td>\n      <td>0.004614</td>\n    </tr>\n    <tr>\n      <th>Y</th>\n      <td>0.004614</td>\n      <td>0.008161</td>\n    </tr>\n  </tbody>\n</table>\n</div>"
     },
     "execution_count": 22,
     "metadata": {},
     "output_type": "execute_result"
    }
   ],
   "source": [
    "#calculating covariance\n",
    "c = df.cov()\n",
    "c"
   ],
   "metadata": {
    "collapsed": false
   }
  },
  {
   "cell_type": "code",
   "execution_count": 23,
   "outputs": [
    {
     "data": {
      "text/plain": "0.004614167111485362"
     },
     "execution_count": 23,
     "metadata": {},
     "output_type": "execute_result"
    }
   ],
   "source": [
    "# cov of stock and market\n",
    "c.X.Y"
   ],
   "metadata": {
    "collapsed": false
   }
  },
  {
   "cell_type": "code",
   "execution_count": 24,
   "outputs": [
    {
     "data": {
      "text/plain": "X    0.003999\nY    0.008161\ndtype: float64"
     },
     "execution_count": 24,
     "metadata": {},
     "output_type": "execute_result"
    }
   ],
   "source": [
    "# calculating variance\n",
    "v = df.var()\n",
    "v"
   ],
   "metadata": {
    "collapsed": false
   }
  },
  {
   "cell_type": "code",
   "execution_count": 25,
   "outputs": [
    {
     "data": {
      "text/plain": "0.003999401255009894"
     },
     "execution_count": 25,
     "metadata": {},
     "output_type": "execute_result"
    }
   ],
   "source": [
    "# variance of market\n",
    "v.X"
   ],
   "metadata": {
    "collapsed": false
   }
  },
  {
   "cell_type": "code",
   "execution_count": 26,
   "outputs": [
    {
     "data": {
      "text/plain": "          X         Y\nX  1.000000  0.565416\nY  1.153714  1.000000",
      "text/html": "<div>\n<style scoped>\n    .dataframe tbody tr th:only-of-type {\n        vertical-align: middle;\n    }\n\n    .dataframe tbody tr th {\n        vertical-align: top;\n    }\n\n    .dataframe thead th {\n        text-align: right;\n    }\n</style>\n<table border=\"1\" class=\"dataframe\">\n  <thead>\n    <tr style=\"text-align: right;\">\n      <th></th>\n      <th>X</th>\n      <th>Y</th>\n    </tr>\n  </thead>\n  <tbody>\n    <tr>\n      <th>X</th>\n      <td>1.000000</td>\n      <td>0.565416</td>\n    </tr>\n    <tr>\n      <th>Y</th>\n      <td>1.153714</td>\n      <td>1.000000</td>\n    </tr>\n  </tbody>\n</table>\n</div>"
     },
     "execution_count": 26,
     "metadata": {},
     "output_type": "execute_result"
    }
   ],
   "source": [
    "c/v"
   ],
   "metadata": {
    "collapsed": false
   }
  },
  {
   "cell_type": "code",
   "execution_count": 28,
   "outputs": [
    {
     "data": {
      "text/plain": "1.1537144730615303"
     },
     "execution_count": 28,
     "metadata": {},
     "output_type": "execute_result"
    }
   ],
   "source": [
    "beta = c.X.Y/v.X\n",
    "beta"
   ],
   "metadata": {
    "collapsed": false
   }
  },
  {
   "cell_type": "markdown",
   "source": [
    "As you can see, values of betas are the same in two method."
   ],
   "metadata": {
    "collapsed": false
   }
  },
  {
   "cell_type": "code",
   "execution_count": 29,
   "outputs": [
    {
     "data": {
      "text/plain": "0           NaN\n1           NaN\n2           NaN\n3           NaN\n4           NaN\n         ...   \n235    1.320562\n236    1.368290\n237    1.234932\n238    1.314584\n239    1.327663\nLength: 240, dtype: float64"
     },
     "execution_count": 29,
     "metadata": {},
     "output_type": "execute_result"
    }
   ],
   "source": [
    "# calculating roling beta with windows size = 36 (3 years in monthly data)\n",
    "cov = df.X.rolling(window=36).cov(df.Y)\n",
    "var = df.X.rolling(window=36).var()\n",
    "cov/var"
   ],
   "metadata": {
    "collapsed": false
   }
  },
  {
   "cell_type": "code",
   "execution_count": 41,
   "outputs": [],
   "source": [
    "# roll beta function\n",
    "\n",
    "def roll_beta(window_size, stock, market):\n",
    "    data = {'X': market, 'Y': stock}\n",
    "    df = pd.DataFrame(data)\n",
    "    cov = df.X.rolling(window=window_size).cov(df.Y)\n",
    "    var = df.X.rolling(window=window_size).var()\n",
    "    roling_beta = cov/var\n",
    "    return np.array(roling_beta[window_size - 1:])"
   ],
   "metadata": {
    "collapsed": false
   }
  },
  {
   "cell_type": "code",
   "execution_count": 42,
   "outputs": [],
   "source": [
    "out = roll_beta(36, y, x)"
   ],
   "metadata": {
    "collapsed": false
   }
  },
  {
   "cell_type": "code",
   "execution_count": 43,
   "outputs": [
    {
     "data": {
      "text/plain": "array([0.9772635 , 0.97014216, 1.00021326, 1.00341387, 0.99066662,\n       1.00436244, 0.99490991, 1.02171093, 1.03098369, 1.03367474,\n       1.051477  , 1.0441973 , 1.06097197, 1.06000448, 1.03501676,\n       1.04392938, 1.05036511, 1.06179624, 1.04459305, 1.05446398,\n       1.04846115, 1.0680065 , 1.07123908, 1.07525705, 1.06774364,\n       1.08922898, 1.13356561, 1.12231121, 1.11750739, 1.11221958,\n       1.11222089, 1.15435166, 1.18812062, 1.26028061, 1.23078474,\n       1.43892495, 1.44945814, 1.44257389, 1.49245589, 1.48736234,\n       1.48676661, 1.49808716, 1.51245944, 1.49931122, 1.49980717,\n       1.5056696 , 1.46281084, 1.46229541, 1.45473297, 1.45703139,\n       1.42105982, 1.42173266, 1.42370527, 1.43551197, 1.44929252,\n       1.42299995, 1.45985696, 1.45545443, 1.44527129, 1.4413922 ,\n       1.44229289, 1.45366658, 1.43358319, 1.40905135, 1.40282212,\n       1.47843879, 1.45342916, 1.42107272, 1.42991674, 1.33643484,\n       1.37197186, 1.06860085, 1.05577774, 1.06599178, 0.92549377,\n       0.94980902, 0.95401916, 0.95728737, 0.92427711, 0.93535844,\n       0.95933226, 0.93040519, 0.97132199, 0.97632746, 1.01961118,\n       0.97178322, 1.02871878, 1.02649439, 0.99960997, 1.00040208,\n       0.98654357, 1.01283978, 1.00118557, 0.97921526, 0.97754416,\n       0.98691537, 0.98709915, 0.9814863 , 0.98765122, 1.02265005,\n       1.04340917, 1.05812365, 1.04917877, 1.06810869, 1.04702848,\n       1.04691054, 1.04411943, 1.00697111, 1.00015663, 0.91888649,\n       0.94505894, 0.90912072, 0.92007111, 0.91489064, 0.96840543,\n       0.94649239, 0.92341114, 0.96390293, 0.96907124, 0.97618749,\n       0.95902476, 1.01298448, 0.94873033, 0.94961811, 0.9588553 ,\n       0.82500769, 0.84957002, 0.85175546, 0.88988378, 0.88582866,\n       0.90188513, 0.87894039, 0.86618037, 0.86141907, 0.85430882,\n       0.7878753 , 0.75290051, 0.70224117, 0.64826202, 0.64749396,\n       0.66111566, 0.63145474, 0.65245714, 0.62413487, 0.63301326,\n       0.66164816, 0.63906895, 0.65701345, 0.6756094 , 0.65305306,\n       0.62708352, 0.66173356, 0.6493877 , 0.62045337, 0.56247753,\n       0.54704092, 0.56549118, 0.58103076, 0.57691681, 0.58250878,\n       0.57045229, 0.61312659, 0.6148405 , 0.60343503, 0.5608676 ,\n       0.60693909, 0.97410268, 0.8414829 , 0.84263708, 0.85112093,\n       0.84205117, 0.87585038, 0.87510632, 0.95391195, 1.20137121,\n       1.19316384, 1.18419127, 1.20482357, 1.21401746, 1.26313492,\n       1.32078899, 1.32415853, 1.34335755, 1.3633117 , 1.34945537,\n       1.42622156, 1.43585711, 1.42876906, 1.42395842, 1.44338902,\n       1.38946034, 1.36406644, 1.36106967, 1.37479978, 1.36644217,\n       1.35304719, 1.32598294, 1.39682854, 1.32570652, 1.322314  ,\n       1.32056229, 1.3682904 , 1.23493168, 1.31458433, 1.32766294])"
     },
     "execution_count": 43,
     "metadata": {},
     "output_type": "execute_result"
    }
   ],
   "source": [
    "out"
   ],
   "metadata": {
    "collapsed": false
   }
  },
  {
   "cell_type": "code",
   "execution_count": null,
   "outputs": [],
   "source": [],
   "metadata": {
    "collapsed": false
   }
  }
 ],
 "metadata": {
  "kernelspec": {
   "display_name": "Python 3",
   "language": "python",
   "name": "python3"
  },
  "language_info": {
   "codemirror_mode": {
    "name": "ipython",
    "version": 2
   },
   "file_extension": ".py",
   "mimetype": "text/x-python",
   "name": "python",
   "nbconvert_exporter": "python",
   "pygments_lexer": "ipython2",
   "version": "2.7.6"
  }
 },
 "nbformat": 4,
 "nbformat_minor": 0
}
